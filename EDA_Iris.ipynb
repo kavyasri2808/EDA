{
 "cells": [
  {
   "cell_type": "markdown",
   "id": "4a87dcd1",
   "metadata": {},
   "source": [
    "# Task 5: Exploratory Data Analysis (EDA) — Iris Dataset\n",
    "\n",
    "**Tools:** Python, pandas, matplotlib  \n",
    "**Dataset:** `iris_dataset.csv` (included)  \n",
    "**Deliverables:** This notebook + `EDA_Report_Iris.pdf`"
   ]
  },
  {
   "cell_type": "code",
   "execution_count": null,
   "id": "4299a8dc",
   "metadata": {},
   "outputs": [],
   "source": [
    "import pandas as pd\n",
    "import numpy as np\n",
    "import matplotlib.pyplot as plt\n",
    "from pandas.plotting import scatter_matrix\n",
    "\n",
    "# Load dataset\n",
    "df = pd.read_csv('iris_dataset.csv')\n",
    "df.head()"
   ]
  },
  {
   "cell_type": "markdown",
   "id": "798f0145",
   "metadata": {},
   "source": [
    "## 1. Structure & Summary"
   ]
  },
  {
   "cell_type": "code",
   "execution_count": null,
   "id": "625a3966",
   "metadata": {},
   "outputs": [],
   "source": [
    "df.info()"
   ]
  },
  {
   "cell_type": "code",
   "execution_count": null,
   "id": "c43f52d0",
   "metadata": {},
   "outputs": [],
   "source": [
    "df.describe(include='all')"
   ]
  },
  {
   "cell_type": "code",
   "execution_count": null,
   "id": "ac1cf087",
   "metadata": {},
   "outputs": [],
   "source": [
    "df['species'].value_counts()"
   ]
  },
  {
   "cell_type": "markdown",
   "id": "2c973e4f",
   "metadata": {},
   "source": [
    "## 2. Distributions — Histograms"
   ]
  },
  {
   "cell_type": "code",
   "execution_count": null,
   "id": "46c1d629",
   "metadata": {},
   "outputs": [],
   "source": [
    "for col in df.columns[:-1]:\n",
    "    plt.figure()\n",
    "    df[col].plot(kind='hist', bins=20, alpha=0.8, edgecolor='black', title=f'Histogram: {col}')\n",
    "    plt.xlabel(col); plt.ylabel('Count'); plt.show()"
   ]
  },
  {
   "cell_type": "markdown",
   "id": "63d7014e",
   "metadata": {},
   "source": [
    "**Observations:**  \n",
    "- Petal-based features (length/width) exhibit clear bimodality.  \n",
    "- Sepal features have more overlap and milder separation."
   ]
  },
  {
   "cell_type": "markdown",
   "id": "625bd622",
   "metadata": {},
   "source": [
    "## 3. Boxplots by Species"
   ]
  },
  {
   "cell_type": "code",
   "execution_count": null,
   "id": "0a436949",
   "metadata": {},
   "outputs": [],
   "source": [
    "for col in df.columns[:-1]:\n",
    "    plt.figure()\n",
    "    data = [df.loc[df['species']==s, col].values for s in df['species'].unique()]\n",
    "    plt.boxplot(data, labels=list(df['species'].unique()))\n",
    "    plt.title(f'Boxplot by species: {col}')\n",
    "    plt.xlabel('species'); plt.ylabel(col); plt.show()"
   ]
  },
  {
   "cell_type": "markdown",
   "id": "a10d5d31",
   "metadata": {},
   "source": [
    "**Observations:**  \n",
    "- Petal length/width show strong separation (setosa < versicolor < virginica).  \n",
    "- Sepal width tends to be slightly higher for setosa; sepal length higher for versicolor/virginica."
   ]
  },
  {
   "cell_type": "markdown",
   "id": "8353bef7",
   "metadata": {},
   "source": [
    "## 4. Correlation Heatmap"
   ]
  },
  {
   "cell_type": "code",
   "execution_count": null,
   "id": "79d6f3af",
   "metadata": {},
   "outputs": [],
   "source": [
    "corr = df.drop(columns=['species']).corr()\n",
    "plt.figure(figsize=(6,5))\n",
    "plt.imshow(corr, interpolation='nearest')\n",
    "plt.xticks(range(len(corr.columns)), corr.columns, rotation=45, ha='right')\n",
    "plt.yticks(range(len(corr.columns)), corr.columns)\n",
    "plt.title('Correlation Heatmap (features only)')\n",
    "for i in range(len(corr.columns)):\n",
    "    for j in range(len(corr.columns)):\n",
    "        plt.text(j, i, f\"{corr.iloc[i, j]:.2f}\", ha='center', va='center')\n",
    "plt.colorbar()\n",
    "plt.tight_layout()\n",
    "plt.show()\n",
    "corr"
   ]
  },
  {
   "cell_type": "markdown",
   "id": "757d877d",
   "metadata": {},
   "source": [
    "**Observations:**  \n",
    "- Petal length and petal width are very strongly correlated (~0.96).  \n",
    "- Sepal width is weakly negatively correlated with petal features."
   ]
  },
  {
   "cell_type": "markdown",
   "id": "958ec30b",
   "metadata": {},
   "source": [
    "## 5. Pairwise Relationships — Scatter Matrix"
   ]
  },
  {
   "cell_type": "code",
   "execution_count": null,
   "id": "7cc273af",
   "metadata": {},
   "outputs": [],
   "source": [
    "axs = scatter_matrix(df.drop(columns=['species']), diagonal='hist', figsize=(6,6))\n",
    "plt.tight_layout(); plt.show()"
   ]
  },
  {
   "cell_type": "markdown",
   "id": "56a82d43",
   "metadata": {},
   "source": [
    "**Observations:**  \n",
    "- Petal features show tight linear relationships; sepal features have broader dispersion."
   ]
  },
  {
   "cell_type": "markdown",
   "id": "a32f423f",
   "metadata": {},
   "source": [
    "## 6. Key Scatter Plots Colored by Species"
   ]
  },
  {
   "cell_type": "code",
   "execution_count": null,
   "id": "0fc73ecc",
   "metadata": {},
   "outputs": [],
   "source": [
    "def scatter_by_species(df, x, y):\n",
    "    for s in df['species'].unique():\n",
    "        sub = df[df['species']==s]\n",
    "        plt.scatter(sub[x], sub[y], label=s, alpha=0.8)\n",
    "    plt.xlabel(x); plt.ylabel(y); plt.title(f'{x} vs {y} by species'); plt.legend()\n",
    "    plt.show()\n",
    "\n",
    "pairs = [('sepal_length','sepal_width'), ('petal_length','petal_width'), ('sepal_length','petal_length')]\n",
    "for x,y in pairs:\n",
    "    scatter_by_species(df, x, y)"
   ]
  },
  {
   "cell_type": "markdown",
   "id": "8cac00f7",
   "metadata": {},
   "source": [
    "## 7. Summary of Findings\n",
    "- Balanced classes (50 each).  \n",
    "- Petal measurements offer strong class separation and are highly correlated.  \n",
    "- Sepal measurements show weaker relations and overlap.  \n",
    "- *Petal_length* and *petal_width* are the most informative features."
   ]
  }
 ],
 "metadata": {},
 "nbformat": 4,
 "nbformat_minor": 5
}
